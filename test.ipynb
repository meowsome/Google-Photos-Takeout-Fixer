{
 "cells": [
  {
   "cell_type": "code",
   "execution_count": 3,
   "metadata": {},
   "outputs": [],
   "source": [
    "import os\n",
    "from tqdm import tqdm\n",
    "import json\n",
    "from exiftool import ExifToolHelper\n",
    "from datetime import datetime\n",
    "import math\n",
    "import re"
   ]
  },
  {
   "cell_type": "code",
   "execution_count": 4,
   "metadata": {},
   "outputs": [],
   "source": [
    "if not os.path.exists(\"output\"):\n",
    "    os.mkdir(\"output\")\n",
    "if not os.path.exists(\"takeout_folders\"):\n",
    "    os.mkdir(\"takeout_folders\")"
   ]
  },
  {
   "cell_type": "code",
   "execution_count": 5,
   "metadata": {},
   "outputs": [],
   "source": [
    "failures = []"
   ]
  },
  {
   "cell_type": "code",
   "execution_count": 4,
   "metadata": {},
   "outputs": [],
   "source": [
    "# https://stackoverflow.com/a/52371976/3675086\n",
    "def deg_to_dms(deg, type='lat'):\n",
    "    decimals, number = math.modf(deg)\n",
    "    d = int(number)\n",
    "    m = int(decimals * 60)\n",
    "    s = (deg - d - m / 60) * 3600.00\n",
    "    compass = {\n",
    "        'lat': ('N','S'),\n",
    "        'lon': ('E','W')\n",
    "    }\n",
    "    compass_str = compass[type][0 if d >= 0 else 1]\n",
    "    return {\n",
    "        'dms': (abs(d), abs(m), abs(s)),\n",
    "        'ref': compass_str\n",
    "    }"
   ]
  },
  {
   "cell_type": "code",
   "execution_count": 13,
   "metadata": {},
   "outputs": [],
   "source": [
    "def attach_metadata(files):\n",
    "    # Iterate thru each provided file\n",
    "    for file in files:\n",
    "        # Attempt to find metadata for this file\n",
    "        try:\n",
    "            with open(f'{file}.json') as json_file:\n",
    "                metadata = json.load(json_file)\n",
    "        except FileNotFoundError:\n",
    "            # If no metadata found, just raw copy to the output folder\n",
    "            failures.append(file)\n",
    "            import shutil\n",
    "            shutil.copyfile(f\"{file}\", f'../../../../../failures/{file}')\n",
    "            shutil.copyfile(f\"{file}\", f'../../../../../output/{file}')\n",
    "        else:\n",
    "            with open(file, 'rb') as img_file:\n",
    "                img = Image(img_file)\n",
    "\n",
    "            # Set timestmap metadata\n",
    "            timestamp = datetime.utcfromtimestamp(int(metadata['photoTakenTime']['timestamp'])).strftime(DATETIME_STR_FORMAT)\n",
    "            img.datetime = timestamp\n",
    "\n",
    "            # Try to set original date, and if it fails cuz no original date was ever set on the photo, then just skip \n",
    "            try:\n",
    "                img.datetime_original = timestamp\n",
    "            except Exception as e:\n",
    "                pass\n",
    "\n",
    "            # Set make and model metadata if available\n",
    "            if 'mobileUpload' in metadata['googlePhotosOrigin'] and 'deviceType' in metadata['googlePhotosOrigin']['mobileUpload']:\n",
    "                if metadata['googlePhotosOrigin']['mobileUpload']['deviceType'] == \"IOS_PHONE\":\n",
    "                    img.make = \"Apple\"\n",
    "                    img.model = \"iPhone 6\"\n",
    "\n",
    "\n",
    "            # Only add lat and lon to metadata if they are available from original photo \n",
    "            if metadata['geoData']['latitude'] != 0.0 and metadata['geoData']['longitude'] != 0.0:\n",
    "                # convert decimal to degree, minute, second\n",
    "                lat = deg_to_dms(metadata['geoData']['latitude'])\n",
    "                lon = deg_to_dms(metadata['geoData']['longitude'])\n",
    "\n",
    "                img.gps_latitude = lat['dms']\n",
    "                img.gps_latitude_ref = lat['ref']\n",
    "                img.gps_longitude = lon['dms']\n",
    "                img.gps_longitude_ref = lon['ref']\n",
    "\n",
    "            with open(f'../../../../../output/{file}', 'wb+') as new_image_file:\n",
    "                new_image_file.write(img.get_file())"
   ]
  },
  {
   "cell_type": "code",
   "execution_count": 8,
   "metadata": {},
   "outputs": [
    {
     "name": "stdout",
     "output_type": "stream",
     "text": [
      "Fixing folder takeout-20230525T041716Z-001\n"
     ]
    },
    {
     "name": "stderr",
     "output_type": "stream",
     "text": [
      "100%|██████████| 5/5 [00:03<00:00,  1.30it/s]\n"
     ]
    },
    {
     "name": "stdout",
     "output_type": "stream",
     "text": [
      "Fixing folder takeout-20230525T041716Z-002\n"
     ]
    },
    {
     "name": "stderr",
     "output_type": "stream",
     "text": [
      "100%|██████████| 2/2 [00:00<00:00,  2.15it/s]\n"
     ]
    }
   ],
   "source": [
    "os.chdir(\"takeout_folders\")\n",
    "for folder in os.listdir():\n",
    "    print(f\"Fixing folder {folder}\")\n",
    "\n",
    "    backwards_traverse = \"../\"\n",
    "    \n",
    "    # Traverse down extra paths if necessary to get to year folders \n",
    "    if os.path.exists(f'{folder}/Takeout'):\n",
    "        os.chdir(f\"{folder}/Takeout/Google Photos\")\n",
    "        backwards_traverse = \"../../../\"\n",
    "\n",
    "    # Fetch all exported photo folders\n",
    "    photo_folders = [folders[1] for folders in os.walk(\"./\")][0]\n",
    "    \n",
    "    for photo_folder in tqdm(photo_folders):\n",
    "        os.chdir(photo_folder) # Go to folder\n",
    "\n",
    "        # Fetch all image types in this folder, ensure not to match .json \n",
    "        image_files = [file for file in os.listdir() if re.search(r'.*\\.(jpg|jpeg)$', file.lower(), re.IGNORECASE)]\n",
    "\n",
    "        # TODO SUPPORT LODAING FOR PNGS \n",
    "\n",
    "        attach_metadata(image_files) # Attach metadata for all image files \n",
    "\n",
    "        # attach_metadata(glob.glob(\"*.MOV\"))\n",
    "\n",
    "        os.chdir(\"../\") # Go up a folder to prepare for the next folder\n",
    "    os.chdir(backwards_traverse) # Go up to the project main directory"
   ]
  },
  {
   "cell_type": "code",
   "execution_count": 9,
   "metadata": {},
   "outputs": [
    {
     "data": {
      "text/plain": [
       "357"
      ]
     },
     "execution_count": 9,
     "metadata": {},
     "output_type": "execute_result"
    }
   ],
   "source": [
    "len(failures)"
   ]
  },
  {
   "cell_type": "code",
   "execution_count": 12,
   "metadata": {},
   "outputs": [
    {
     "name": "stdout",
     "output_type": "stream",
     "text": [
      "received request\n"
     ]
    },
    {
     "ename": "UnpackError",
     "evalue": "\n\n+--------+------------+-------+-------+------------------------+\n| Offset | Access     | Value | Bytes | Format                 |\n+--------+------------+-------+-------+------------------------+\n|        |            |       |       | TiffHeader (Structure) |\n| 0      | byte_order | 1281  | 05 01 | tiff_byte_order        |\n+--------+------------+-------+-------+------------------------+\n\nValueError occurred during unpack operation:\n\n1281 is not a valid TiffByteOrder",
     "output_type": "error",
     "traceback": [
      "\u001b[1;31m---------------------------------------------------------------------------\u001b[0m",
      "\u001b[1;31mValueError\u001b[0m                                Traceback (most recent call last)",
      "\u001b[1;31mValueError\u001b[0m: 1281 is not a valid TiffByteOrder",
      "\nDuring handling of the above exception, another exception occurred:\n",
      "\u001b[1;31mValueError\u001b[0m                                Traceback (most recent call last)",
      "File \u001b[1;32mc:\\Users\\Tyler\\AppData\\Local\\Programs\\Python\\Python38\\lib\\site-packages\\plum\\buffer.py:30\u001b[0m, in \u001b[0;36mBuffer.unpack\u001b[1;34m(self, fmt)\u001b[0m\n\u001b[0;32m     28\u001b[0m \u001b[39mtry\u001b[39;00m:\n\u001b[0;32m     29\u001b[0m     \u001b[39m# None -> dump\u001b[39;00m\n\u001b[1;32m---> 30\u001b[0m     value, \u001b[39mself\u001b[39m\u001b[39m.\u001b[39moffset \u001b[39m=\u001b[39m items\u001b[39m.\u001b[39;49m__unpack__(\u001b[39mself\u001b[39;49m, \u001b[39mself\u001b[39;49m\u001b[39m.\u001b[39;49moffset, \u001b[39mNone\u001b[39;49;00m, fmt)\n\u001b[0;32m     31\u001b[0m \u001b[39mexcept\u001b[39;00m \u001b[39mException\u001b[39;00m \u001b[39mas\u001b[39;00m exc:\n\u001b[0;32m     32\u001b[0m     \u001b[39m# do it over to include dump in exception message\u001b[39;00m\n",
      "File \u001b[1;32mc:\\Users\\Tyler\\AppData\\Local\\Programs\\Python\\Python38\\lib\\site-packages\\plum\\items.py:388\u001b[0m, in \u001b[0;36mItemsX.__unpack__\u001b[1;34m(self, buffer, offset, dump, fmt)\u001b[0m\n\u001b[0;32m    386\u001b[0m     \u001b[39mreturn\u001b[39;00m dict_value, offset\n\u001b[1;32m--> 388\u001b[0m \u001b[39mreturn\u001b[39;00m fmt\u001b[39m.\u001b[39;49m__unpack__(buffer, offset)\n",
      "File \u001b[1;32m<string>:59\u001b[0m, in \u001b[0;36m__unpack__\u001b[1;34m(cls, buffer, offset, dump)\u001b[0m\n",
      "File \u001b[1;32mc:\\Users\\Tyler\\AppData\\Local\\Programs\\Python\\Python38\\lib\\site-packages\\plum\\enum.py:108\u001b[0m, in \u001b[0;36mEnumX.__unpack__\u001b[1;34m(self, buffer, offset, dump)\u001b[0m\n\u001b[0;32m    107\u001b[0m \u001b[39mtry\u001b[39;00m:\n\u001b[1;32m--> 108\u001b[0m     \u001b[39mreturn\u001b[39;00m enum(value), end\n\u001b[0;32m    109\u001b[0m \u001b[39mexcept\u001b[39;00m \u001b[39mValueError\u001b[39;00m:\n",
      "File \u001b[1;32mc:\\Users\\Tyler\\AppData\\Local\\Programs\\Python\\Python38\\lib\\enum.py:304\u001b[0m, in \u001b[0;36mEnumMeta.__call__\u001b[1;34m(cls, value, names, module, qualname, type, start)\u001b[0m\n\u001b[0;32m    303\u001b[0m \u001b[39mif\u001b[39;00m names \u001b[39mis\u001b[39;00m \u001b[39mNone\u001b[39;00m:  \u001b[39m# simple value lookup\u001b[39;00m\n\u001b[1;32m--> 304\u001b[0m     \u001b[39mreturn\u001b[39;00m \u001b[39mcls\u001b[39;49m\u001b[39m.\u001b[39;49m\u001b[39m__new__\u001b[39;49m(\u001b[39mcls\u001b[39;49m, value)\n\u001b[0;32m    305\u001b[0m \u001b[39m# otherwise, functional API: we're creating a new Enum type\u001b[39;00m\n",
      "File \u001b[1;32mc:\\Users\\Tyler\\AppData\\Local\\Programs\\Python\\Python38\\lib\\enum.py:595\u001b[0m, in \u001b[0;36mEnum.__new__\u001b[1;34m(cls, value)\u001b[0m\n\u001b[0;32m    594\u001b[0m exc\u001b[39m.\u001b[39m__context__ \u001b[39m=\u001b[39m ve_exc\n\u001b[1;32m--> 595\u001b[0m \u001b[39mraise\u001b[39;00m exc\n",
      "File \u001b[1;32mc:\\Users\\Tyler\\AppData\\Local\\Programs\\Python\\Python38\\lib\\enum.py:579\u001b[0m, in \u001b[0;36mEnum.__new__\u001b[1;34m(cls, value)\u001b[0m\n\u001b[0;32m    578\u001b[0m     exc \u001b[39m=\u001b[39m \u001b[39mNone\u001b[39;00m\n\u001b[1;32m--> 579\u001b[0m     result \u001b[39m=\u001b[39m \u001b[39mcls\u001b[39;49m\u001b[39m.\u001b[39;49m_missing_(value)\n\u001b[0;32m    580\u001b[0m \u001b[39mexcept\u001b[39;00m \u001b[39mException\u001b[39;00m \u001b[39mas\u001b[39;00m e:\n",
      "File \u001b[1;32mc:\\Users\\Tyler\\AppData\\Local\\Programs\\Python\\Python38\\lib\\enum.py:608\u001b[0m, in \u001b[0;36mEnum._missing_\u001b[1;34m(cls, value)\u001b[0m\n\u001b[0;32m    606\u001b[0m \u001b[39m@classmethod\u001b[39m\n\u001b[0;32m    607\u001b[0m \u001b[39mdef\u001b[39;00m \u001b[39m_missing_\u001b[39m(\u001b[39mcls\u001b[39m, value):\n\u001b[1;32m--> 608\u001b[0m     \u001b[39mraise\u001b[39;00m \u001b[39mValueError\u001b[39;00m(\u001b[39m\"\u001b[39m\u001b[39m%r\u001b[39;00m\u001b[39m is not a valid \u001b[39m\u001b[39m%s\u001b[39;00m\u001b[39m\"\u001b[39m \u001b[39m%\u001b[39m (value, \u001b[39mcls\u001b[39m\u001b[39m.\u001b[39m\u001b[39m__name__\u001b[39m))\n",
      "\u001b[1;31mValueError\u001b[0m: 1281 is not a valid TiffByteOrder",
      "\nDuring handling of the above exception, another exception occurred:\n",
      "\u001b[1;31mValueError\u001b[0m                                Traceback (most recent call last)",
      "File \u001b[1;32mc:\\Users\\Tyler\\AppData\\Local\\Programs\\Python\\Python38\\lib\\site-packages\\plum\\buffer.py:50\u001b[0m, in \u001b[0;36mBuffer.unpack_and_dump\u001b[1;34m(self, fmt)\u001b[0m\n\u001b[0;32m     48\u001b[0m \u001b[39mtry\u001b[39;00m:\n\u001b[0;32m     49\u001b[0m     \u001b[39m# empty record added so so pack always called with a Record instance\u001b[39;00m\n\u001b[1;32m---> 50\u001b[0m     value, \u001b[39mself\u001b[39m\u001b[39m.\u001b[39moffset \u001b[39m=\u001b[39m items\u001b[39m.\u001b[39;49m__unpack__(\u001b[39mself\u001b[39;49m, offset, dump\u001b[39m.\u001b[39;49madd_record(), fmt)\n\u001b[0;32m     51\u001b[0m \u001b[39mexcept\u001b[39;00m \u001b[39mException\u001b[39;00m \u001b[39mas\u001b[39;00m exc:\n",
      "File \u001b[1;32mc:\\Users\\Tyler\\AppData\\Local\\Programs\\Python\\Python38\\lib\\site-packages\\plum\\items.py:361\u001b[0m, in \u001b[0;36mItemsX.__unpack__\u001b[1;34m(self, buffer, offset, dump, fmt)\u001b[0m\n\u001b[0;32m    360\u001b[0m \u001b[39mif\u001b[39;00m dump \u001b[39mis\u001b[39;00m \u001b[39mnot\u001b[39;00m \u001b[39mNone\u001b[39;00m:\n\u001b[1;32m--> 361\u001b[0m     \u001b[39mreturn\u001b[39;00m \u001b[39mself\u001b[39;49m\u001b[39m.\u001b[39;49m__unpack_and_dump__(buffer, offset, dump, fmt)\n\u001b[0;32m    363\u001b[0m \u001b[39mif\u001b[39;00m fmt \u001b[39mis\u001b[39;00m Default\u001b[39m.\u001b[39mUNSPECIFIED:\n",
      "File \u001b[1;32mc:\\Users\\Tyler\\AppData\\Local\\Programs\\Python\\Python38\\lib\\site-packages\\plum\\items.py:435\u001b[0m, in \u001b[0;36mItemsX.__unpack_and_dump__\u001b[1;34m(self, buffer, offset, dump, fmt)\u001b[0m\n\u001b[0;32m    434\u001b[0m     dump\u001b[39m.\u001b[39mfmt \u001b[39m=\u001b[39m fmt\u001b[39m.\u001b[39mname\n\u001b[1;32m--> 435\u001b[0m     \u001b[39mreturn\u001b[39;00m fmt\u001b[39m.\u001b[39;49m__unpack__(buffer, offset, dump)\n\u001b[0;32m    437\u001b[0m dump\u001b[39m.\u001b[39mfmt \u001b[39m=\u001b[39m \u001b[39mstr\u001b[39m(fmt)\n",
      "File \u001b[1;32m<string>:68\u001b[0m, in \u001b[0;36m__unpack__\u001b[1;34m(cls, buffer, offset, dump)\u001b[0m\n",
      "File \u001b[1;32mc:\\Users\\Tyler\\AppData\\Local\\Programs\\Python\\Python38\\lib\\site-packages\\plum\\enum.py:118\u001b[0m, in \u001b[0;36mEnumX.__unpack__\u001b[1;34m(self, buffer, offset, dump)\u001b[0m\n\u001b[0;32m    117\u001b[0m \u001b[39mtry\u001b[39;00m:\n\u001b[1;32m--> 118\u001b[0m     value \u001b[39m=\u001b[39m enum(value)\n\u001b[0;32m    119\u001b[0m \u001b[39mexcept\u001b[39;00m \u001b[39mValueError\u001b[39;00m:\n",
      "File \u001b[1;32mc:\\Users\\Tyler\\AppData\\Local\\Programs\\Python\\Python38\\lib\\enum.py:304\u001b[0m, in \u001b[0;36mEnumMeta.__call__\u001b[1;34m(cls, value, names, module, qualname, type, start)\u001b[0m\n\u001b[0;32m    303\u001b[0m \u001b[39mif\u001b[39;00m names \u001b[39mis\u001b[39;00m \u001b[39mNone\u001b[39;00m:  \u001b[39m# simple value lookup\u001b[39;00m\n\u001b[1;32m--> 304\u001b[0m     \u001b[39mreturn\u001b[39;00m \u001b[39mcls\u001b[39;49m\u001b[39m.\u001b[39;49m\u001b[39m__new__\u001b[39;49m(\u001b[39mcls\u001b[39;49m, value)\n\u001b[0;32m    305\u001b[0m \u001b[39m# otherwise, functional API: we're creating a new Enum type\u001b[39;00m\n",
      "File \u001b[1;32mc:\\Users\\Tyler\\AppData\\Local\\Programs\\Python\\Python38\\lib\\enum.py:595\u001b[0m, in \u001b[0;36mEnum.__new__\u001b[1;34m(cls, value)\u001b[0m\n\u001b[0;32m    594\u001b[0m exc\u001b[39m.\u001b[39m__context__ \u001b[39m=\u001b[39m ve_exc\n\u001b[1;32m--> 595\u001b[0m \u001b[39mraise\u001b[39;00m exc\n",
      "File \u001b[1;32mc:\\Users\\Tyler\\AppData\\Local\\Programs\\Python\\Python38\\lib\\enum.py:579\u001b[0m, in \u001b[0;36mEnum.__new__\u001b[1;34m(cls, value)\u001b[0m\n\u001b[0;32m    578\u001b[0m     exc \u001b[39m=\u001b[39m \u001b[39mNone\u001b[39;00m\n\u001b[1;32m--> 579\u001b[0m     result \u001b[39m=\u001b[39m \u001b[39mcls\u001b[39;49m\u001b[39m.\u001b[39;49m_missing_(value)\n\u001b[0;32m    580\u001b[0m \u001b[39mexcept\u001b[39;00m \u001b[39mException\u001b[39;00m \u001b[39mas\u001b[39;00m e:\n",
      "File \u001b[1;32mc:\\Users\\Tyler\\AppData\\Local\\Programs\\Python\\Python38\\lib\\enum.py:608\u001b[0m, in \u001b[0;36mEnum._missing_\u001b[1;34m(cls, value)\u001b[0m\n\u001b[0;32m    606\u001b[0m \u001b[39m@classmethod\u001b[39m\n\u001b[0;32m    607\u001b[0m \u001b[39mdef\u001b[39;00m \u001b[39m_missing_\u001b[39m(\u001b[39mcls\u001b[39m, value):\n\u001b[1;32m--> 608\u001b[0m     \u001b[39mraise\u001b[39;00m \u001b[39mValueError\u001b[39;00m(\u001b[39m\"\u001b[39m\u001b[39m%r\u001b[39;00m\u001b[39m is not a valid \u001b[39m\u001b[39m%s\u001b[39;00m\u001b[39m\"\u001b[39m \u001b[39m%\u001b[39m (value, \u001b[39mcls\u001b[39m\u001b[39m.\u001b[39m\u001b[39m__name__\u001b[39m))\n",
      "\u001b[1;31mValueError\u001b[0m: 1281 is not a valid TiffByteOrder",
      "\nThe above exception was the direct cause of the following exception:\n",
      "\u001b[1;31mUnpackError\u001b[0m                               Traceback (most recent call last)",
      "Cell \u001b[1;32mIn[12], line 3\u001b[0m\n\u001b[0;32m      1\u001b[0m video_file \u001b[39m=\u001b[39m \u001b[39m\"\u001b[39m\u001b[39mtakeout_folders/takeout-20230525T041716Z-001/Takeout/Google Photos/Photos from 2017/IMG_0472.mp4\u001b[39m\u001b[39m\"\u001b[39m\n\u001b[1;32m----> 3\u001b[0m attach_metadata([video_file])\n",
      "Cell \u001b[1;32mIn[11], line 18\u001b[0m, in \u001b[0;36mattach_metadata\u001b[1;34m(files)\u001b[0m\n\u001b[0;32m     16\u001b[0m \u001b[39melse\u001b[39;00m:\n\u001b[0;32m     17\u001b[0m     \u001b[39mwith\u001b[39;00m \u001b[39mopen\u001b[39m(file, \u001b[39m'\u001b[39m\u001b[39mrb\u001b[39m\u001b[39m'\u001b[39m) \u001b[39mas\u001b[39;00m img_file:\n\u001b[1;32m---> 18\u001b[0m         img \u001b[39m=\u001b[39m Image(img_file)\n\u001b[0;32m     20\u001b[0m     \u001b[39m# Set timestmap metadata\u001b[39;00m\n\u001b[0;32m     21\u001b[0m     \u001b[39mprint\u001b[39m(\u001b[39m'\u001b[39m\u001b[39mset date\u001b[39m\u001b[39m'\u001b[39m)\n",
      "File \u001b[1;32mc:\\Users\\Tyler\\AppData\\Local\\Programs\\Python\\Python38\\lib\\site-packages\\exif\\_image.py:82\u001b[0m, in \u001b[0;36mImage.__init__\u001b[1;34m(self, img_file)\u001b[0m\n\u001b[0;32m     79\u001b[0m \u001b[39melse\u001b[39;00m:  \u001b[39m# pragma: no cover\u001b[39;00m\n\u001b[0;32m     80\u001b[0m     \u001b[39mraise\u001b[39;00m \u001b[39mValueError\u001b[39;00m(\u001b[39m\"\u001b[39m\u001b[39mexpected file object, file path as str, or bytes\u001b[39m\u001b[39m\"\u001b[39m)\n\u001b[1;32m---> 82\u001b[0m \u001b[39mself\u001b[39;49m\u001b[39m.\u001b[39;49m_parse_segments(img_bytes)\n",
      "File \u001b[1;32mc:\\Users\\Tyler\\AppData\\Local\\Programs\\Python\\Python38\\lib\\site-packages\\exif\\_image.py:57\u001b[0m, in \u001b[0;36mImage._parse_segments\u001b[1;34m(self, img_bytes)\u001b[0m\n\u001b[0;32m     53\u001b[0m             \u001b[39mbreak\u001b[39;00m\n\u001b[0;32m     55\u001b[0m \u001b[39mif\u001b[39;00m \u001b[39mself\u001b[39m\u001b[39m.\u001b[39m_has_exif:\n\u001b[0;32m     56\u001b[0m     \u001b[39m# Instantiate an APP1 segment object to create an EXIF tag interface.\u001b[39;00m\n\u001b[1;32m---> 57\u001b[0m     \u001b[39mself\u001b[39m\u001b[39m.\u001b[39m_segments[\u001b[39m\"\u001b[39m\u001b[39mAPP1\u001b[39m\u001b[39m\"\u001b[39m] \u001b[39m=\u001b[39m App1MetaData(img_bytes[app1_start_index:cursor])\n\u001b[0;32m     58\u001b[0m     \u001b[39mself\u001b[39m\u001b[39m.\u001b[39m_segments[\u001b[39m\"\u001b[39m\u001b[39msucceeding\u001b[39m\u001b[39m\"\u001b[39m] \u001b[39m=\u001b[39m img_bytes[cursor:]\n\u001b[0;32m     59\u001b[0m \u001b[39melse\u001b[39;00m:\n\u001b[0;32m     60\u001b[0m     \u001b[39m# Store the remainder of the image so that it can be reconstructed when exporting.\u001b[39;00m\n",
      "File \u001b[1;32mc:\\Users\\Tyler\\AppData\\Local\\Programs\\Python\\Python38\\lib\\site-packages\\exif\\_app1_metadata.py:568\u001b[0m, in \u001b[0;36mApp1MetaData.__init__\u001b[1;34m(self, segment_bytes)\u001b[0m\n\u001b[0;32m    565\u001b[0m \u001b[39mself\u001b[39m\u001b[39m.\u001b[39mtag_parent_ifd \u001b[39m=\u001b[39m {}\n\u001b[0;32m    566\u001b[0m \u001b[39mself\u001b[39m\u001b[39m.\u001b[39mthumbnail_bytes \u001b[39m=\u001b[39m \u001b[39mNone\u001b[39;00m\n\u001b[1;32m--> 568\u001b[0m \u001b[39mself\u001b[39;49m\u001b[39m.\u001b[39;49m_parse_ifd_segments()\n\u001b[0;32m    569\u001b[0m \u001b[39mself\u001b[39m\u001b[39m.\u001b[39m_extract_thumbnail()\n",
      "File \u001b[1;32mc:\\Users\\Tyler\\AppData\\Local\\Programs\\Python\\Python38\\lib\\site-packages\\exif\\_app1_metadata.py:507\u001b[0m, in \u001b[0;36mApp1MetaData._parse_ifd_segments\u001b[1;34m(self)\u001b[0m\n\u001b[0;32m    505\u001b[0m \u001b[39mdef\u001b[39;00m \u001b[39m_parse_ifd_segments\u001b[39m(\u001b[39mself\u001b[39m):\n\u001b[0;32m    506\u001b[0m     body_bytes_buffer \u001b[39m=\u001b[39m Buffer(\u001b[39mself\u001b[39m\u001b[39m.\u001b[39mbody_bytes)\n\u001b[1;32m--> 507\u001b[0m     tiff_header \u001b[39m=\u001b[39m body_bytes_buffer\u001b[39m.\u001b[39;49munpack(TiffHeader)\n\u001b[0;32m    508\u001b[0m     \u001b[39mself\u001b[39m\u001b[39m.\u001b[39mendianness \u001b[39m=\u001b[39m tiff_header\u001b[39m.\u001b[39mbyte_order\n\u001b[0;32m    510\u001b[0m     current_ifd \u001b[39m=\u001b[39m \u001b[39m0\u001b[39m\n",
      "File \u001b[1;32mc:\\Users\\Tyler\\AppData\\Local\\Programs\\Python\\Python38\\lib\\site-packages\\plum\\buffer.py:33\u001b[0m, in \u001b[0;36mBuffer.unpack\u001b[1;34m(self, fmt)\u001b[0m\n\u001b[0;32m     30\u001b[0m     value, \u001b[39mself\u001b[39m\u001b[39m.\u001b[39moffset \u001b[39m=\u001b[39m items\u001b[39m.\u001b[39m__unpack__(\u001b[39mself\u001b[39m, \u001b[39mself\u001b[39m\u001b[39m.\u001b[39moffset, \u001b[39mNone\u001b[39;00m, fmt)\n\u001b[0;32m     31\u001b[0m \u001b[39mexcept\u001b[39;00m \u001b[39mException\u001b[39;00m \u001b[39mas\u001b[39;00m exc:\n\u001b[0;32m     32\u001b[0m     \u001b[39m# do it over to include dump in exception message\u001b[39;00m\n\u001b[1;32m---> 33\u001b[0m     \u001b[39mself\u001b[39;49m\u001b[39m.\u001b[39;49munpack_and_dump(fmt)\n\u001b[0;32m     34\u001b[0m     \u001b[39mraise\u001b[39;00m ImplementationError() \u001b[39mfrom\u001b[39;00m \u001b[39mexc\u001b[39;00m  \u001b[39m# pragma: no cover\u001b[39;00m\n\u001b[0;32m     36\u001b[0m \u001b[39mreturn\u001b[39;00m value\n",
      "File \u001b[1;32mc:\\Users\\Tyler\\AppData\\Local\\Programs\\Python\\Python38\\lib\\site-packages\\plum\\buffer.py:53\u001b[0m, in \u001b[0;36mBuffer.unpack_and_dump\u001b[1;34m(self, fmt)\u001b[0m\n\u001b[0;32m     51\u001b[0m \u001b[39mexcept\u001b[39;00m \u001b[39mException\u001b[39;00m \u001b[39mas\u001b[39;00m exc:\n\u001b[0;32m     52\u001b[0m     dump\u001b[39m.\u001b[39mtrim_blank_record()\n\u001b[1;32m---> 53\u001b[0m     \u001b[39mraise\u001b[39;00m UnpackError(dump, exc) \u001b[39mfrom\u001b[39;00m \u001b[39mexc\u001b[39;00m\n\u001b[0;32m     55\u001b[0m dump\u001b[39m.\u001b[39mtrim_blank_record()\n\u001b[0;32m     57\u001b[0m \u001b[39mreturn\u001b[39;00m value, dump\n",
      "\u001b[1;31mUnpackError\u001b[0m: \n\n+--------+------------+-------+-------+------------------------+\n| Offset | Access     | Value | Bytes | Format                 |\n+--------+------------+-------+-------+------------------------+\n|        |            |       |       | TiffHeader (Structure) |\n| 0      | byte_order | 1281  | 05 01 | tiff_byte_order        |\n+--------+------------+-------+-------+------------------------+\n\nValueError occurred during unpack operation:\n\n1281 is not a valid TiffByteOrder"
     ]
    }
   ],
   "source": [
    "video_file = \"takeout_folders/takeout-20230525T041716Z-001/Takeout/Google Photos/Photos from 2017/IMG_0472.mp4\"\n",
    "\n",
    "attach_metadata([video_file])"
   ]
  },
  {
   "cell_type": "code",
   "execution_count": null,
   "metadata": {},
   "outputs": [],
   "source": []
  }
 ],
 "metadata": {
  "kernelspec": {
   "display_name": "Python 3",
   "language": "python",
   "name": "python3"
  },
  "language_info": {
   "codemirror_mode": {
    "name": "ipython",
    "version": 3
   },
   "file_extension": ".py",
   "mimetype": "text/x-python",
   "name": "python",
   "nbconvert_exporter": "python",
   "pygments_lexer": "ipython3",
   "version": "3.8.0"
  },
  "orig_nbformat": 4
 },
 "nbformat": 4,
 "nbformat_minor": 2
}
