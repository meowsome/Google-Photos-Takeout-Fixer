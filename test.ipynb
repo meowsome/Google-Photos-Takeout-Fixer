{
 "cells": [
  {
   "cell_type": "code",
   "execution_count": 1,
   "metadata": {},
   "outputs": [],
   "source": [
    "import os\n",
    "import glob\n",
    "from tqdm import tqdm\n",
    "import json\n",
    "from exif import Image, DATETIME_STR_FORMAT\n",
    "from datetime import datetime\n",
    "import math"
   ]
  },
  {
   "cell_type": "code",
   "execution_count": 2,
   "metadata": {},
   "outputs": [
    {
     "data": {
      "text/plain": [
       "['.git',\n",
       " '.gitignore',\n",
       " 'fix.py',\n",
       " 'output',\n",
       " 'README.md',\n",
       " 'takeout_folders',\n",
       " 'test.ipynb']"
      ]
     },
     "execution_count": 2,
     "metadata": {},
     "output_type": "execute_result"
    }
   ],
   "source": [
    "os.listdir()"
   ]
  },
  {
   "cell_type": "code",
   "execution_count": 3,
   "metadata": {},
   "outputs": [],
   "source": [
    "# https://auth0.com/blog/read-edit-exif-metadata-in-photos-with-python/"
   ]
  },
  {
   "cell_type": "code",
   "execution_count": 4,
   "metadata": {},
   "outputs": [],
   "source": [
    "if not os.path.exists(\"output\"):\n",
    "    os.mkdir(\"output\")\n",
    "if not os.path.exists(\"takeout_folders\"):\n",
    "    os.mkdir(\"takeout_folders\")"
   ]
  },
  {
   "cell_type": "code",
   "execution_count": 5,
   "metadata": {},
   "outputs": [],
   "source": [
    "failures = []"
   ]
  },
  {
   "cell_type": "code",
   "execution_count": 6,
   "metadata": {},
   "outputs": [],
   "source": [
    "# https://stackoverflow.com/a/52371976/3675086\n",
    "def deg_to_dms(deg, type='lat'):\n",
    "    decimals, number = math.modf(deg)\n",
    "    d = int(number)\n",
    "    m = int(decimals * 60)\n",
    "    s = (deg - d - m / 60) * 3600.00\n",
    "    compass = {\n",
    "        'lat': ('N','S'),\n",
    "        'lon': ('E','W')\n",
    "    }\n",
    "    compass_str = compass[type][0 if d >= 0 else 1]\n",
    "    return {\n",
    "        'dms': (abs(d), abs(m), abs(s)),\n",
    "        'ref': compass_str\n",
    "    }"
   ]
  },
  {
   "cell_type": "code",
   "execution_count": 7,
   "metadata": {},
   "outputs": [],
   "source": [
    "def attach_metadata(files):\n",
    "    for file in files:\n",
    "        try:\n",
    "            with open(f'{file}.json') as json_file:\n",
    "                metadata = json.load(json_file)\n",
    "        except FileNotFoundError:\n",
    "            failures.append(file)\n",
    "        else:\n",
    "            with open(file, 'rb') as img_file:\n",
    "                img = Image(img_file)\n",
    "\n",
    "            timestamp = datetime.utcfromtimestamp(int(metadata['photoTakenTime']['timestamp'])).strftime(DATETIME_STR_FORMAT) # TODO SOMETHING WRONG HERE \n",
    "\n",
    "            img.datetime = timestamp\n",
    "\n",
    "            # Try to set original date, and if it fails cuz no original date was ever set on the photo, then just skip \n",
    "            try:\n",
    "                img.datetime_original = timestamp\n",
    "            except Exception as e:\n",
    "                pass\n",
    "\n",
    "            if 'mobileUpload' in metadata['googlePhotosOrigin'] and 'deviceType' in metadata['googlePhotosOrigin']['mobileUpload']:\n",
    "                if metadata['googlePhotosOrigin']['mobileUpload']['deviceType'] == \"IOS_PHONE\":\n",
    "                    img.make = \"Apple\"\n",
    "                    img.model = \"iPhone 6\"\n",
    "\n",
    "\n",
    "            # Only add lat and lon to metadata if they are available from original photo \n",
    "            if metadata['geoData']['latitude'] != 0.0 and metadata['geoData']['longitude'] != 0.0:\n",
    "                # convert decimal to degree, minute, second\n",
    "                lat = deg_to_dms(metadata['geoData']['latitude'])\n",
    "                lon = deg_to_dms(metadata['geoData']['longitude'])\n",
    "\n",
    "\n",
    "                img.gps_latitude = lat['dms']\n",
    "                img.gps_latitude_ref = lat['ref']\n",
    "                img.gps_longitude = lon['dms']\n",
    "                img.gps_longitude_ref = lon['ref']\n",
    "\n",
    "            # print(os.getcwd())\n",
    "            with open(f'../../../../../output/{file}', 'wb+') as new_image_file:\n",
    "                new_image_file.write(img.get_file())"
   ]
  },
  {
   "cell_type": "code",
   "execution_count": 9,
   "metadata": {},
   "outputs": [
    {
     "name": "stdout",
     "output_type": "stream",
     "text": [
      "Fixing folder takeout-20230525T041716Z-001\n",
      "['Photos from 2013', 'Photos from 2014', 'Photos from 2015', 'Photos from 2016', 'Photos from 2017']\n"
     ]
    },
    {
     "name": "stderr",
     "output_type": "stream",
     "text": [
      "  0%|          | 0/5 [00:00<?, ?it/s]"
     ]
    },
    {
     "name": "stdout",
     "output_type": "stream",
     "text": [
      "Photos from 2013\n",
      "Photos from 2014\n",
      "Photos from 2015\n"
     ]
    },
    {
     "name": "stderr",
     "output_type": "stream",
     "text": [
      " 60%|██████    | 3/5 [00:00<00:00,  6.38it/s]"
     ]
    },
    {
     "name": "stdout",
     "output_type": "stream",
     "text": [
      "Photos from 2016\n"
     ]
    },
    {
     "name": "stderr",
     "output_type": "stream",
     "text": [
      " 80%|████████  | 4/5 [00:01<00:00,  1.77it/s]"
     ]
    },
    {
     "name": "stdout",
     "output_type": "stream",
     "text": [
      "Photos from 2017\n"
     ]
    },
    {
     "name": "stderr",
     "output_type": "stream",
     "text": [
      "100%|██████████| 5/5 [00:03<00:00,  1.44it/s]\n"
     ]
    },
    {
     "name": "stdout",
     "output_type": "stream",
     "text": [
      "Fixing folder takeout-20230525T041716Z-002\n",
      "['Photos from 2016', 'Photos from 2017']\n"
     ]
    },
    {
     "name": "stderr",
     "output_type": "stream",
     "text": [
      "  0%|          | 0/2 [00:00<?, ?it/s]"
     ]
    },
    {
     "name": "stdout",
     "output_type": "stream",
     "text": [
      "Photos from 2016\n"
     ]
    },
    {
     "name": "stderr",
     "output_type": "stream",
     "text": [
      "100%|██████████| 2/2 [00:00<00:00,  5.00it/s]"
     ]
    },
    {
     "name": "stdout",
     "output_type": "stream",
     "text": [
      "Photos from 2017\n"
     ]
    },
    {
     "name": "stderr",
     "output_type": "stream",
     "text": [
      "100%|██████████| 2/2 [00:00<00:00,  4.92it/s]\n"
     ]
    }
   ],
   "source": [
    "os.chdir(\"takeout_folders\")\n",
    "for folder in os.listdir():\n",
    "    print(f\"Fixing folder {folder}\")\n",
    "\n",
    "    backwards_traverse = \"../\"\n",
    "    \n",
    "    # Traverse down extra paths if necessary to get to year folders \n",
    "    if os.path.exists(f'{folder}/Takeout'):\n",
    "        os.chdir(f\"{folder}/Takeout/Google Photos\")\n",
    "        backwards_traverse = \"../../../\"\n",
    "\n",
    "    photo_folders = [folders[1] for folders in os.walk(\"./\")][0]\n",
    "    \n",
    "    for photo_folder in tqdm(photo_folders):\n",
    "        os.chdir(photo_folder)\n",
    "\n",
    "        # TODO not case insensitive\n",
    "        # TODO add png\n",
    "\n",
    "        attach_metadata(glob.glob(\"*.JPG\"))\n",
    "\n",
    "        # attach_metadata(glob.glob(\"*.MOV\"))\n",
    "\n",
    "        os.chdir(\"../\")\n",
    "    os.chdir(backwards_traverse)"
   ]
  },
  {
   "cell_type": "code",
   "execution_count": 10,
   "metadata": {},
   "outputs": [
    {
     "data": {
      "text/plain": [
       "357"
      ]
     },
     "execution_count": 10,
     "metadata": {},
     "output_type": "execute_result"
    }
   ],
   "source": [
    "len(failures)"
   ]
  },
  {
   "cell_type": "code",
   "execution_count": null,
   "metadata": {},
   "outputs": [],
   "source": []
  }
 ],
 "metadata": {
  "kernelspec": {
   "display_name": "Python 3",
   "language": "python",
   "name": "python3"
  },
  "language_info": {
   "codemirror_mode": {
    "name": "ipython",
    "version": 3
   },
   "file_extension": ".py",
   "mimetype": "text/x-python",
   "name": "python",
   "nbconvert_exporter": "python",
   "pygments_lexer": "ipython3",
   "version": "3.8.0"
  },
  "orig_nbformat": 4
 },
 "nbformat": 4,
 "nbformat_minor": 2
}
