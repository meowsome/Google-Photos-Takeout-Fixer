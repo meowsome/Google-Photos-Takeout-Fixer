{
 "cells": [
  {
   "cell_type": "code",
   "execution_count": 52,
   "metadata": {},
   "outputs": [],
   "source": [
    "video_file = \"takeout_folders/takeout-20230525T041716Z-001/Takeout/Google Photos/Photos from 2015/IMG_0290.JPG\"\n"
   ]
  },
  {
   "cell_type": "code",
   "execution_count": 53,
   "metadata": {},
   "outputs": [],
   "source": [
    "from exiftool import ExifToolHelper\n",
    "import json\n",
    "from datetime import datetime\n",
    "import shutil\n",
    "import math"
   ]
  },
  {
   "cell_type": "code",
   "execution_count": 54,
   "metadata": {},
   "outputs": [],
   "source": [
    "with open(f'{video_file}.json') as json_file:\n",
    "    metadata = json.load(json_file)"
   ]
  },
  {
   "cell_type": "code",
   "execution_count": 55,
   "metadata": {},
   "outputs": [
    {
     "data": {
      "text/plain": [
       "{'title': 'IMG_0290.JPG',\n",
       " 'description': '',\n",
       " 'imageViews': '65',\n",
       " 'creationTime': {'timestamp': '1473126679',\n",
       "  'formatted': 'Sep 6, 2016, 1:51:19â€¯AM UTC'},\n",
       " 'photoTakenTime': {'timestamp': '1438460509',\n",
       "  'formatted': 'Aug 1, 2015, 8:21:49â€¯PM UTC'},\n",
       " 'geoData': {'latitude': 40.3828611,\n",
       "  'longitude': -105.5190111,\n",
       "  'altitude': 2336.0,\n",
       "  'latitudeSpan': 0.0,\n",
       "  'longitudeSpan': 0.0},\n",
       " 'geoDataExif': {'latitude': 40.3828611,\n",
       "  'longitude': -105.5190111,\n",
       "  'altitude': 2336.0,\n",
       "  'latitudeSpan': 0.0,\n",
       "  'longitudeSpan': 0.0},\n",
       " 'url': 'https://lh3.googleusercontent.com/KBziBLdc5gDW7Oy8WUq8VAJZaMj2G1Tq1END3CUGvGkUV3Z-13Z2T3DowD4-b3ZbeOW_4UTRdsvvpmAEwW28S0ULrfOuGdM5zGDM1Qo',\n",
       " 'googlePhotosOrigin': {'mobileUpload': {'deviceType': 'IOS_PHONE'}}}"
      ]
     },
     "execution_count": 55,
     "metadata": {},
     "output_type": "execute_result"
    }
   ],
   "source": [
    "metadata"
   ]
  },
  {
   "cell_type": "code",
   "execution_count": 56,
   "metadata": {},
   "outputs": [],
   "source": [
    " # Set timestmap metadata\n",
    "timestamp = datetime.utcfromtimestamp(int(metadata['photoTakenTime']['timestamp'])).strftime(\"%Y:%m:%d %H:%M:%S\")\n"
   ]
  },
  {
   "cell_type": "code",
   "execution_count": 57,
   "metadata": {},
   "outputs": [
    {
     "data": {
      "text/plain": [
       "'output/test.mp4'"
      ]
     },
     "execution_count": 57,
     "metadata": {},
     "output_type": "execute_result"
    }
   ],
   "source": [
    "shutil.copyfile(video_file, \"output/test.mp4\")"
   ]
  },
  {
   "cell_type": "code",
   "execution_count": 65,
   "metadata": {},
   "outputs": [],
   "source": [
    "# https://stackoverflow.com/a/52371976/3675086\n",
    "def deg_to_dms(deg, kind='lat'):\n",
    "    decimals, number = math.modf(deg)\n",
    "    d = int(number)\n",
    "    m = int(decimals * 60)\n",
    "    s = (deg - d - m / 60) * 3600.00\n",
    "    compass = {\n",
    "        'lat': ('N','S'),\n",
    "        'lon': ('E','W')\n",
    "    }\n",
    "    compass_str = compass[kind][0 if d >= 0 else 1]\n",
    "    return {\n",
    "        'dms': (abs(d), abs(m), abs(s)),\n",
    "        'ref': compass_str\n",
    "    }"
   ]
  },
  {
   "cell_type": "code",
   "execution_count": 68,
   "metadata": {},
   "outputs": [],
   "source": [
    "# convert decimal to degree, minute, second\n",
    "lat = deg_to_dms(metadata['geoData']['latitude'])\n",
    "lon = deg_to_dms(metadata['geoData']['longitude'], kind='lon')"
   ]
  },
  {
   "cell_type": "code",
   "execution_count": 69,
   "metadata": {},
   "outputs": [
    {
     "data": {
      "text/plain": [
       "({'dms': (40, 22, 58.29995999999833), 'ref': 'N'},\n",
       " {'dms': (105, 31, 8.439960000000424), 'ref': 'W'})"
      ]
     },
     "execution_count": 69,
     "metadata": {},
     "output_type": "execute_result"
    }
   ],
   "source": [
    "lat, lon"
   ]
  },
  {
   "cell_type": "code",
   "execution_count": 61,
   "metadata": {},
   "outputs": [],
   "source": [
    "with ExifToolHelper() as et:\n",
    "    et.set_tags(\n",
    "        [video_file],\n",
    "        tags={\n",
    "            \"DateTimeOriginal\": timestamp,\n",
    "            \"GPSLatitude\": str(metadata['geoData']['latitude']),\n",
    "            \"GPSLatitudeRef\": lat['ref'],\n",
    "            \"GPSLongitude\": str(metadata['geoData']['longitude']),\n",
    "            \"GPSLongitudeRef\": lon['ref'],\n",
    "        },\n",
    "        params=[\"-o\", \"output/test.jpg\"]\n",
    "    )"
   ]
  },
  {
   "cell_type": "code",
   "execution_count": 62,
   "metadata": {},
   "outputs": [
    {
     "name": "stdout",
     "output_type": "stream",
     "text": [
      "Dict: SourceFile = output/test.jpg\n",
      "Dict: EXIF:DateTimeOriginal = 2015:08:01 20:21:49\n",
      "Dict: EXIF:GPSLatitude = 40.3828610999861\n",
      "Dict: Composite:GPSLatitude = 40.3828610999861\n",
      "Dict: EXIF:GPSLongitude = 105.519011099993\n",
      "Dict: Composite:GPSLongitude = 105.519011099993\n"
     ]
    }
   ],
   "source": [
    "with ExifToolHelper() as et:\n",
    "    for d in et.get_tags([\"output/test.jpg\"], tags=[\"DateTimeOriginal\", \"GPSLatitude\", \"GPSLongitude\"]):\n",
    "        for k, v in d.items():\n",
    "            print(f\"Dict: {k} = {v}\")"
   ]
  },
  {
   "cell_type": "code",
   "execution_count": null,
   "metadata": {},
   "outputs": [],
   "source": []
  }
 ],
 "metadata": {
  "kernelspec": {
   "display_name": "Python 3",
   "language": "python",
   "name": "python3"
  },
  "language_info": {
   "codemirror_mode": {
    "name": "ipython",
    "version": 3
   },
   "file_extension": ".py",
   "mimetype": "text/x-python",
   "name": "python",
   "nbconvert_exporter": "python",
   "pygments_lexer": "ipython3",
   "version": "3.9.10"
  },
  "orig_nbformat": 4
 },
 "nbformat": 4,
 "nbformat_minor": 2
}
